{
 "cells": [
  {
   "cell_type": "markdown",
   "id": "8956d004-41c7-4d72-87a4-9e79bf843dd3",
   "metadata": {},
   "source": [
    "# TeamA Machine Learning Project\n",
    "## Los Angeles Crime Data 2020-Present Desiscion Tree Approach\n",
    "### Saulo Guzman and Alex Philipsen"
   ]
  },
  {
   "cell_type": "markdown",
   "id": "db432eae-8c82-4603-b54c-e0022b4ccb8a",
   "metadata": {},
   "source": [
    "---\n",
    "\n",
    "Importing Libraries and Data"
   ]
  },
  {
   "cell_type": "code",
   "execution_count": 1,
   "id": "bfc6ca1b-fbf4-458d-aa3f-ebb5de0d93c6",
   "metadata": {
    "tags": []
   },
   "outputs": [],
   "source": [
    "import pandas as pd\n",
    "from sklearn.tree import DecisionTreeClassifier\n",
    "from sklearn.model_selection import train_test_split\n",
    "from sklearn.metrics import accuracy_score, confusion_matrix"
   ]
  },
  {
   "cell_type": "code",
   "execution_count": 2,
   "id": "0492df4e-1088-47ec-b1a4-2a19d4b0181c",
   "metadata": {},
   "outputs": [],
   "source": [
    "uneditedDF = pd.read_csv(\"Crime_Data_from_2020_to_Present.csv\", nrows=10000)"
   ]
  },
  {
   "cell_type": "markdown",
   "id": "4947c8ca-3134-4696-84c2-62e3847f5560",
   "metadata": {},
   "source": [
    "---\n",
    "## Cleaning Data\n",
    "We are making use of the features of latitude, longitude, area name, time of day, and crime code."
   ]
  },
  {
   "cell_type": "code",
   "execution_count": 3,
   "id": "8d9dd021-ac3d-45fa-871a-c88ad45c6ecf",
   "metadata": {},
   "outputs": [
    {
     "name": "stdout",
     "output_type": "stream",
     "text": [
      "   AREA  TIME OCC  Crm Cd      LAT       LON  Vict Age\n",
      "0     7      2130     510  34.0375 -118.3506         0\n"
     ]
    }
   ],
   "source": [
    "crimeDF = uneditedDF[['AREA', 'TIME OCC', 'Crm Cd','LAT', 'LON', 'Vict Age']]\n",
    "print(crimeDF.head(1))"
   ]
  },
  {
   "cell_type": "markdown",
   "id": "8247646d-90dd-4d96-aa8d-eb87f1689e43",
   "metadata": {
    "tags": []
   },
   "source": [
    "---\n",
    "## Implementing  Classifier Decision tree"
   ]
  },
  {
   "cell_type": "code",
   "execution_count": 4,
   "id": "2c88da6e-1c5b-4225-98d3-63c37579ce96",
   "metadata": {},
   "outputs": [],
   "source": [
    "# Splitting data between train, test, and valid sets\n",
    "trainSet = crimeDF.sample(frac=0.4)\n",
    "crimeDF = crimeDF.drop(trainSet.index)\n",
    "testSet = crimeDF.sample(frac=0.3)\n",
    "crimeDF = crimeDF.drop(testSet.index)\n",
    "validSet = crimeDF.sample(frac=0.3)\n",
    "crimeDF = crimeDF.drop(validSet.index)\n",
    "\n",
    "# Splitting each set into X and y\n",
    "\n",
    "X_train = trainSet[['AREA', 'TIME OCC', 'LAT', 'LON', 'Vict Age']]\n",
    "y_train = trainSet['Crm Cd']\n",
    "X_test = testSet[['AREA', 'TIME OCC', 'LAT', 'LON', 'Vict Age']]\n",
    "y_test = testSet['Crm Cd']\n",
    "X_valid = validSet[['AREA', 'TIME OCC', 'LAT', 'LON', 'Vict Age']]\n",
    "y_valid = validSet['Crm Cd']\n",
    "\n",
    "areaCodeToName = (uneditedDF[['AREA', 'AREA NAME']]\n",
    "                    .drop_duplicates()\n",
    "                    .sort_values(by='AREA')\n",
    "                    )"
   ]
  },
  {
   "cell_type": "code",
   "execution_count": 5,
   "id": "1ee01dfb-233b-4b6f-807d-83d7e0d4275d",
   "metadata": {
    "tags": []
   },
   "outputs": [
    {
     "name": "stdout",
     "output_type": "stream",
     "text": [
      "Accuracy: 23.06%\n",
      "Validation Accuracy: 22.78%\n"
     ]
    }
   ],
   "source": [
    "\n",
    "# Initialize and train the decision tree classifier\n",
    "dt = DecisionTreeClassifier(max_depth=5, random_state=42)\n",
    "dt.fit(X_train, y_train)\n",
    "\n",
    "# Predict on the test set\n",
    "y_pred = dt.predict(X_test)\n",
    "\n",
    "# Evaluate the model's accuracy\n",
    "accuracy = accuracy_score(y_test, y_pred)\n",
    "print(f'Accuracy: {accuracy * 100:.2f}%')\n",
    "\n",
    "# Predict on the validation set\n",
    "y_valid_pred = dt.predict(X_valid)\n",
    "valid_accuracy = accuracy_score(y_valid, y_valid_pred)\n",
    "print(f'Validation Accuracy: {valid_accuracy * 100:.2f}%')"
   ]
  },
  {
   "cell_type": "code",
   "execution_count": 6,
   "id": "38eecf3b-9dff-4650-b52c-35ea85b36e6f",
   "metadata": {
    "tags": []
   },
   "outputs": [
    {
     "name": "stdout",
     "output_type": "stream",
     "text": [
      "    Feature  Importance\n",
      "4  Vict Age    0.658242\n",
      "1  TIME OCC    0.232405\n",
      "2       LAT    0.055317\n",
      "0      AREA    0.039328\n",
      "3       LON    0.014708\n"
     ]
    }
   ],
   "source": [
    "\n",
    "feature_importances = dt.feature_importances_\n",
    "importances_df = pd.DataFrame({\n",
    "    'Feature': X_train.columns,\n",
    "    'Importance': feature_importances\n",
    "})\n",
    "\n",
    "\n",
    "importances_df = importances_df.sort_values(by='Importance', ascending=False)\n",
    "\n",
    "print(importances_df)"
   ]
  },
  {
   "cell_type": "markdown",
   "id": "c95db470-030f-4a97-b48d-b35638ec6135",
   "metadata": {
    "tags": []
   },
   "source": [
    "---\n",
    "## Implementing  Classifier Decision tree while binning feature"
   ]
  },
  {
   "cell_type": "code",
   "execution_count": 7,
   "id": "44d82356-524c-411a-86cc-4b8ba4c041ef",
   "metadata": {},
   "outputs": [],
   "source": [
    "from sklearn.preprocessing import OneHotEncoder\n",
    "\n",
    "encoder = OneHotEncoder()\n",
    "area_encoded = encoder.fit_transform(X_train[['AREA']]).toarray()\n",
    "area_feature_names = encoder.get_feature_names_out(['AREA'])\n",
    "\n",
    "# Replace 'AREA' in X_train, X_test, X_valid\n",
    "X_train = pd.concat([X_train.drop('AREA', axis=1), pd.DataFrame(area_encoded, columns=area_feature_names)], axis=1)\n",
    "X_test = pd.concat([X_test.drop('AREA', axis=1), pd.DataFrame(encoder.transform(X_test[['AREA']]).toarray(), columns=area_feature_names)], axis=1)\n",
    "X_valid = pd.concat([X_valid.drop('AREA', axis=1), pd.DataFrame(encoder.transform(X_valid[['AREA']]).toarray(), columns=area_feature_names)], axis=1)"
   ]
  },
  {
   "cell_type": "code",
   "execution_count": 8,
   "id": "e56e91be-c347-4f08-98d4-82e1e4fbce0e",
   "metadata": {},
   "outputs": [],
   "source": [
    "bins = [0, 600, 1200, 1800, 2400]\n",
    "labels = ['Late Night', 'Morning', 'Afternoon', 'Evening']\n",
    "\n",
    "# Add 'Time Bin' column\n",
    "X_train['Time Bin'] = pd.cut(X_train['TIME OCC'], bins=bins, labels=labels, right=False)\n",
    "X_test['Time Bin'] = pd.cut(X_test['TIME OCC'], bins=bins, labels=labels, right=False)\n",
    "X_valid['Time Bin'] = pd.cut(X_valid['TIME OCC'], bins=bins, labels=labels, right=False)"
   ]
  },
  {
   "cell_type": "code",
   "execution_count": 9,
   "id": "cb15f7d9-c617-4ef8-907d-a2d8ce591071",
   "metadata": {},
   "outputs": [],
   "source": [
    "encoder_time_bin = OneHotEncoder()\n",
    "time_bin_encoded = encoder_time_bin.fit_transform(X_train[['Time Bin']]).toarray()\n",
    "time_bin_feature_names = encoder_time_bin.get_feature_names_out(['Time Bin'])\n",
    "\n",
    "# Replace 'Time Bin' with its encoded features\n",
    "X_train = pd.concat([X_train.drop('Time Bin', axis=1), pd.DataFrame(time_bin_encoded, columns=time_bin_feature_names, index=X_train.index)], axis=1)\n",
    "X_test = pd.concat([X_test.drop('Time Bin', axis=1), pd.DataFrame(encoder_time_bin.transform(X_test[['Time Bin']]).toarray(), columns=time_bin_feature_names, index=X_test.index)], axis=1)\n",
    "X_valid = pd.concat([X_valid.drop('Time Bin', axis=1), pd.DataFrame(encoder_time_bin.transform(X_valid[['Time Bin']]).toarray(), columns=time_bin_feature_names, index=X_valid.index)], axis=1)"
   ]
  },
  {
   "cell_type": "code",
   "execution_count": 10,
   "id": "b5aa74cc-0bef-4212-8bca-e644abce0662",
   "metadata": {},
   "outputs": [],
   "source": [
    "from sklearn.preprocessing import StandardScaler\n",
    "\n",
    "scaler = StandardScaler()\n",
    "X_train[['LAT', 'LON']] = scaler.fit_transform(X_train[['LAT', 'LON']])\n",
    "X_test[['LAT', 'LON']] = scaler.transform(X_test[['LAT', 'LON']])\n",
    "X_valid[['LAT', 'LON']] = scaler.transform(X_valid[['LAT', 'LON']])"
   ]
  },
  {
   "cell_type": "code",
   "execution_count": 11,
   "id": "c7a404d3-0604-45f2-96ce-b7fa0f95d8a6",
   "metadata": {},
   "outputs": [],
   "source": [
    "X_train = X_train.dropna()\n",
    "X_test = X_test.dropna()\n",
    "X_valid = X_valid.dropna()"
   ]
  },
  {
   "cell_type": "code",
   "execution_count": 12,
   "id": "adce3ab4-c8fe-4604-8053-1eb4a21bb775",
   "metadata": {},
   "outputs": [],
   "source": [
    "y_train = y_train.loc[X_train.index]\n",
    "y_test = y_test.loc[X_test.index]\n",
    "y_valid = y_valid.loc[X_valid.index]"
   ]
  },
  {
   "cell_type": "code",
   "execution_count": 13,
   "id": "45774dff-fb71-4e0e-b600-628593d9d4f5",
   "metadata": {},
   "outputs": [
    {
     "name": "stdout",
     "output_type": "stream",
     "text": [
      "Accuracy: 46.18%\n"
     ]
    }
   ],
   "source": [
    "from sklearn.ensemble import RandomForestClassifier\n",
    "from sklearn.metrics import accuracy_score\n",
    "\n",
    "rf_model = RandomForestClassifier(class_weight='balanced', random_state=42)\n",
    "\n",
    "rf_model.fit(X_train, y_train)\n",
    "\n",
    "y_pred = rf_model.predict(X_test)\n",
    "accuracy = accuracy_score(y_test, y_pred)\n",
    "\n",
    "print(f'Accuracy: {accuracy * 100:.2f}%')"
   ]
  },
  {
   "cell_type": "code",
   "execution_count": 14,
   "id": "7f60ec9b-0dc9-4749-a557-b24273550abc",
   "metadata": {},
   "outputs": [
    {
     "name": "stdout",
     "output_type": "stream",
     "text": [
      "Accuracy: 54.46%\n",
      "Validation Accuracy: 56.33%\n"
     ]
    }
   ],
   "source": [
    "#After binning the data set.\n",
    "# Initialize and train the decision tree classifier\n",
    "dt = DecisionTreeClassifier(max_depth=5, random_state=42)\n",
    "dt.fit(X_train, y_train)\n",
    "\n",
    "# Predict on the test set\n",
    "y_pred = dt.predict(X_test)\n",
    "\n",
    "# Evaluate the model's accuracy\n",
    "accuracy = accuracy_score(y_test, y_pred)\n",
    "print(f'Accuracy: {accuracy * 100:.2f}%')\n",
    "\n",
    "# Predict on the validation set\n",
    "y_valid_pred = dt.predict(X_valid)\n",
    "valid_accuracy = accuracy_score(y_valid, y_valid_pred)\n",
    "print(f'Validation Accuracy: {valid_accuracy * 100:.2f}%')"
   ]
  },
  {
   "cell_type": "code",
   "execution_count": null,
   "id": "59217bdb-bd7d-408c-a58d-16dc57043211",
   "metadata": {},
   "outputs": [],
   "source": []
  }
 ],
 "metadata": {
  "kernelspec": {
   "display_name": "Python 3 (ipykernel)",
   "language": "python",
   "name": "python3"
  },
  "language_info": {
   "codemirror_mode": {
    "name": "ipython",
    "version": 3
   },
   "file_extension": ".py",
   "mimetype": "text/x-python",
   "name": "python",
   "nbconvert_exporter": "python",
   "pygments_lexer": "ipython3",
   "version": "3.10.8"
  }
 },
 "nbformat": 4,
 "nbformat_minor": 5
}
