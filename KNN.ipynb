{
 "cells": [
  {
   "cell_type": "markdown",
   "metadata": {},
   "source": [
    "# TeamA Machine Learning Project\n",
    "## Los Angeles Crime Data 2020-Present\n",
    "### Saulo Guzman and Alex Philipsen"
   ]
  },
  {
   "cell_type": "markdown",
   "metadata": {},
   "source": [
    "---\n",
    "\n",
    "Importing Libraries and Data"
   ]
  },
  {
   "cell_type": "code",
   "execution_count": 94,
   "metadata": {},
   "outputs": [],
   "source": [
    "import pandas as pd\n",
    "from sklearn.neighbors import KNeighborsClassifier\n",
    "import sklearn.metrics\n",
    "import numpy as np"
   ]
  },
  {
   "cell_type": "code",
   "execution_count": 95,
   "metadata": {},
   "outputs": [],
   "source": [
    "uneditedDF = pd.read_csv(\"Crime_Data_from_2020_to_Present.csv\", nrows=100000)"
   ]
  },
  {
   "cell_type": "markdown",
   "metadata": {},
   "source": [
    "---\n",
    "## Cleaning Data\n",
    "We are making use of the features of latitude, longitude, area name, time of day, and crime code."
   ]
  },
  {
   "cell_type": "code",
   "execution_count": 96,
   "metadata": {},
   "outputs": [
    {
     "name": "stdout",
     "output_type": "stream",
     "text": [
      "   AREA  Crm Cd  TIME OCC      LAT       LON\n",
      "0     7     510      2130  34.0375 -118.3506\n"
     ]
    }
   ],
   "source": [
    "crimeDF = uneditedDF[['AREA', 'Crm Cd', 'TIME OCC', 'LAT', 'LON']]\n",
    "print(crimeDF.head(1))\n",
    "\n",
    "# Splitting data between train, test, and valid sets\n",
    "trainSet = crimeDF.sample(frac=0.4)\n",
    "crimeDF = crimeDF.drop(trainSet.index)\n",
    "testSet = crimeDF.sample(frac=0.3)\n",
    "crimeDF = crimeDF.drop(testSet.index)\n",
    "validSet = crimeDF.sample(frac=0.3)\n",
    "crimeDF = crimeDF.drop(validSet.index)\n",
    "\n",
    "# Splitting each set into X and y\n",
    "\n",
    "X_train = trainSet[['AREA', 'TIME OCC', 'LAT', 'LON']]\n",
    "y_train = trainSet['Crm Cd']\n",
    "X_test = testSet[['AREA', 'TIME OCC', 'LAT', 'LON']]\n",
    "y_test = testSet['Crm Cd']\n",
    "X_valid = validSet[['AREA', 'TIME OCC', 'LAT', 'LON']]\n",
    "y_valid = validSet['Crm Cd']\n",
    "\n",
    "Xs = [X_train, X_test, X_valid]\n",
    "\n",
    "for X in Xs:\n",
    "    X.loc[X['LAT'] == 0, 'LAT'] = X['LAT'].mean()\n",
    "    X.loc[X['LON'] == 0, 'LON'] = X['LON'].mean()"
   ]
  },
  {
   "cell_type": "markdown",
   "metadata": {},
   "source": [
    "---\n",
    "## Implementing KNN Classifier"
   ]
  },
  {
   "cell_type": "code",
   "execution_count": 97,
   "metadata": {},
   "outputs": [],
   "source": [
    "areaCodeToName = (uneditedDF[['AREA', 'AREA NAME']]\n",
    "                    .drop_duplicates()\n",
    "                    .sort_values(by='AREA')\n",
    "                    )"
   ]
  },
  {
   "cell_type": "code",
   "execution_count": 98,
   "metadata": {},
   "outputs": [
    {
     "name": "stdout",
     "output_type": "stream",
     "text": [
      "The accuracy for KNN for 1 on the test set is: 0.09033333333333333\n",
      "The accuracy for KNN for 2 on the test set is: 0.08605555555555555\n",
      "The accuracy for KNN for 3 on the test set is: 0.08422222222222223\n",
      "The accuracy for KNN for 4 on the test set is: 0.08483333333333333\n",
      "The accuracy for KNN for 5 on the test set is: 0.08777777777777777\n",
      "The accuracy for KNN for 6 on the test set is: 0.0935\n",
      "The accuracy for KNN for 7 on the test set is: 0.09572222222222222\n",
      "The accuracy for KNN for 8 on the test set is: 0.09905555555555555\n",
      "The accuracy for KNN for 9 on the test set is: 0.10283333333333333\n",
      "The accuracy for KNN for 10 on the test set is: 0.10338888888888889\n",
      "The accuracy for KNN for 11 on the test set is: 0.10477777777777778\n",
      "The accuracy for KNN for 12 on the test set is: 0.1068888888888889\n",
      "The accuracy for KNN for 13 on the test set is: 0.10844444444444444\n",
      "The accuracy for KNN for 14 on the test set is: 0.10783333333333334\n",
      "The accuracy for KNN for 15 on the test set is: 0.10827777777777778\n",
      "The accuracy for KNN for 16 on the test set is: 0.10894444444444444\n",
      "The accuracy for KNN for 17 on the test set is: 0.11016666666666666\n",
      "The accuracy for KNN for 18 on the test set is: 0.11277777777777778\n",
      "The accuracy for KNN for 19 on the test set is: 0.11477777777777778\n",
      "The accuracy for KNN for 20 on the test set is: 0.11538888888888889\n",
      "The accuracy for KNN for 21 on the test set is: 0.11555555555555555\n"
     ]
    }
   ],
   "source": [
    "for num_neighbors in range(21):\n",
    "    knnClassifier = KNeighborsClassifier(n_neighbors=(num_neighbors+1))\n",
    "    knnClassifier.fit(X_train, y_train)\n",
    "    y_pred = knnClassifier.predict(X_test)\n",
    "    print(f\"The accuracy for KNN for {num_neighbors+1} on the test set is: {sklearn.metrics.accuracy_score(y_pred=y_pred, y_true=y_test)}\")"
   ]
  },
  {
   "cell_type": "markdown",
   "metadata": {},
   "source": [
    "The best accuracy achieved for an unwieghted KNN classifier was around 0.11 at num_neighbors = 20. So, next we will try weighting the classifier."
   ]
  },
  {
   "cell_type": "code",
   "execution_count": 99,
   "metadata": {},
   "outputs": [
    {
     "name": "stdout",
     "output_type": "stream",
     "text": [
      "Accuracy for weighted KNN by distance with 20 neighbors: 0.11555555555555555\n"
     ]
    }
   ],
   "source": [
    "weightedKnn = KNeighborsClassifier(n_neighbors=20, weights='distance')\n",
    "weightedKnn.fit(X_train, y_train)\n",
    "weighted_y_pred = weightedKnn.predict(X_test)\n",
    "print(f\"Accuracy for weighted KNN by distance with 20 neighbors: {sklearn.metrics.accuracy_score(y_pred=y_pred, y_true=y_test)}\")"
   ]
  },
  {
   "cell_type": "markdown",
   "metadata": {},
   "source": [
    "Even with weights, KNN has the same accuracy and is not performing very well. However, this data is not normalized, so we will be testing KNN with normalized data."
   ]
  },
  {
   "cell_type": "code",
   "execution_count": 100,
   "metadata": {},
   "outputs": [],
   "source": [
    "from sklearn.preprocessing import MinMaxScaler"
   ]
  },
  {
   "cell_type": "code",
   "execution_count": 101,
   "metadata": {},
   "outputs": [],
   "source": [
    "class NormalizedKNN:\n",
    "    def __init__(self, X_train, y_train, model):\n",
    "        self.X = X_train\n",
    "        self.y = y_train\n",
    "        self.model = model\n",
    "        self.scaler = MinMaxScaler()\n",
    "\n",
    "    def normalizeAndPredict(self, X):\n",
    "\n",
    "        X_norm = pd.DataFrame(self.scaler.transform(X), columns=X.columns)\n",
    "\n",
    "        y_pred = self.model.predict(X_norm)\n",
    "\n",
    "        return y_pred\n",
    "\n",
    "    def normalizeAndFit(self):\n",
    "        X_norm = pd.DataFrame(self.scaler.fit_transform(self.X), columns=self.X.columns)\n",
    "\n",
    "        self.model.fit(X_norm, self.y)\n",
    "\n",
    "    def getAccuracy(self, X_test, y_test):\n",
    "        y_pred = self.normalizeAndPredict(X_test)\n",
    "\n",
    "        accuracy = sklearn.metrics.accuracy_score(y_test, y_pred)\n",
    "        \n",
    "        return accuracy\n"
   ]
  },
  {
   "cell_type": "code",
   "execution_count": 102,
   "metadata": {},
   "outputs": [
    {
     "name": "stdout",
     "output_type": "stream",
     "text": [
      "Accuracy for a normalized KNN model with 21 neighbors: 0.10483333333333333\n"
     ]
    }
   ],
   "source": [
    "num_neighbors = 21\n",
    "model = KNeighborsClassifier(n_neighbors=21)\n",
    "normalizedKNN = NormalizedKNN(X_train=X_train, y_train=y_train, model=model)\n",
    "\n",
    "normalizedKNN.normalizeAndFit()\n",
    "accuracy = normalizedKNN.getAccuracy(X_test=X_test, y_test=y_test)\n",
    "print(f\"Accuracy for a normalized KNN model with 21 neighbors: {accuracy}\")"
   ]
  },
  {
   "cell_type": "markdown",
   "metadata": {},
   "source": [
    "The accuracy of KNN when normalized tends to be around the same as un-normalized."
   ]
  },
  {
   "cell_type": "markdown",
   "metadata": {},
   "source": [
    "---\n",
    "# Predicting the possibility of crime with KNN\n",
    "\n",
    "For this, we will be using the faker library to generate data where there is no crime at all so that we can distinguish the presence of a crime."
   ]
  },
  {
   "cell_type": "code",
   "execution_count": 103,
   "metadata": {},
   "outputs": [],
   "source": [
    "from faker import Faker\n",
    "import random"
   ]
  },
  {
   "cell_type": "code",
   "execution_count": 104,
   "metadata": {},
   "outputs": [],
   "source": [
    "X_train = trainSet[['AREA', 'TIME OCC', 'LAT', 'LON', 'Crm Cd']]\n",
    "X_test = testSet[['AREA', 'TIME OCC', 'LAT', 'LON', 'Crm Cd']]\n",
    "X_valid = validSet[['AREA', 'TIME OCC', 'LAT', 'LON', 'Crm Cd']]"
   ]
  },
  {
   "cell_type": "code",
   "execution_count": 105,
   "metadata": {},
   "outputs": [],
   "source": [
    "Xs = [X_train, X_test, X_valid]\n",
    "\n",
    "for X in Xs:\n",
    "    X.loc[X['LAT'] == 0, 'LAT'] = X['LAT'].mean()\n",
    "    X.loc[X['LON'] == 0, 'LON'] = X['LON'].mean()"
   ]
  },
  {
   "cell_type": "code",
   "execution_count": 106,
   "metadata": {},
   "outputs": [],
   "source": [
    "def convert_crime_to_bool(X):\n",
    "    new_y = pd.DataFrame()\n",
    "    new_X = X\n",
    "    new_X[\"Has Crime\"] = new_X['Crm Cd'].apply(lambda x: 0 if x == -1 else 1)\n",
    "\n",
    "    new_y = new_X['Has Crime']\n",
    "    new_X = X.drop(columns=['Crm Cd', 'Has Crime'])\n",
    "    return new_y, new_X\n",
    "\n",
    "def generate_fake_crime_data(data, num_rows):\n",
    "    fake_data = pd.DataFrame()\n",
    "    for column in data.columns:\n",
    "        if column == 'Crm Cd':\n",
    "            break\n",
    "        max_val = data[column].max()\n",
    "        min_val = data[column].min()\n",
    "        if(isinstance(max_val, int)):\n",
    "            fake_data[column] = np.random.choice(range(min_val, max_val), size=num_rows, replace=True)\n",
    "        else:\n",
    "            fake_data[column] = [random.uniform(min_val, max_val) for _ in range(num_rows)]\n",
    "    \n",
    "    fake_data['Crm Cd'] = [-1 for _ in range(num_rows)]\n",
    "    new_x = fake_data\n",
    "\n",
    "    new_x = pd.concat([new_x, data])\n",
    "    return new_x"
   ]
  },
  {
   "cell_type": "code",
   "execution_count": 107,
   "metadata": {},
   "outputs": [],
   "source": [
    "new_X_train = generate_fake_crime_data(X_train, X_train.shape[0])\n",
    "new_y_train, new_X_train = convert_crime_to_bool(new_X_train)\n",
    "\n",
    "new_X_test = generate_fake_crime_data(X_test, X_test.shape[0])\n",
    "new_y_test, new_X_test = convert_crime_to_bool(new_X_test)\n",
    "\n",
    "new_X_valid = generate_fake_crime_data(X_valid, X_valid.shape[0])\n",
    "new_y_valid, new_X_valid = convert_crime_to_bool(new_X_valid)"
   ]
  },
  {
   "cell_type": "code",
   "execution_count": 108,
   "metadata": {},
   "outputs": [
    {
     "name": "stdout",
     "output_type": "stream",
     "text": [
      "The accuracy for KNN for 1 on the test set is: 0.8905555555555555\n",
      "The accuracy for KNN for 2 on the test set is: 0.8961944444444444\n",
      "The accuracy for KNN for 3 on the test set is: 0.87425\n",
      "The accuracy for KNN for 4 on the test set is: 0.87425\n",
      "The accuracy for KNN for 5 on the test set is: 0.8588055555555556\n",
      "The accuracy for KNN for 6 on the test set is: 0.8648055555555556\n",
      "The accuracy for KNN for 7 on the test set is: 0.85425\n",
      "The accuracy for KNN for 8 on the test set is: 0.8576666666666667\n",
      "The accuracy for KNN for 9 on the test set is: 0.8456111111111111\n",
      "The accuracy for KNN for 10 on the test set is: 0.8476111111111111\n",
      "The accuracy for KNN for 11 on the test set is: 0.8370833333333333\n",
      "The accuracy for KNN for 12 on the test set is: 0.83875\n",
      "The accuracy for KNN for 13 on the test set is: 0.82975\n",
      "The accuracy for KNN for 14 on the test set is: 0.8307222222222223\n",
      "The accuracy for KNN for 15 on the test set is: 0.8222222222222222\n",
      "The accuracy for KNN for 16 on the test set is: 0.8240277777777778\n",
      "The accuracy for KNN for 17 on the test set is: 0.8190277777777778\n",
      "The accuracy for KNN for 18 on the test set is: 0.8204166666666667\n",
      "The accuracy for KNN for 19 on the test set is: 0.8158611111111111\n",
      "The accuracy for KNN for 20 on the test set is: 0.8176388888888889\n",
      "The accuracy for KNN for 21 on the test set is: 0.81125\n"
     ]
    }
   ],
   "source": [
    "for num_neighbors in range(21):\n",
    "    knnClassifier = KNeighborsClassifier(n_neighbors=(num_neighbors+1))\n",
    "    knnClassifier.fit(new_X_train, new_y_train)\n",
    "    y_pred = knnClassifier.predict(new_X_test)\n",
    "    print(f\"The accuracy for KNN for {num_neighbors+1} on the test set is: {sklearn.metrics.accuracy_score(y_pred=y_pred, y_true=new_y_test)}\")"
   ]
  },
  {
   "cell_type": "markdown",
   "metadata": {},
   "source": [
    "The highest accuracy in determining the presence of a crime is 0.89 with 2 neighbors."
   ]
  }
 ],
 "metadata": {
  "kernelspec": {
   "display_name": "base",
   "language": "python",
   "name": "python3"
  },
  "language_info": {
   "codemirror_mode": {
    "name": "ipython",
    "version": 3
   },
   "file_extension": ".py",
   "mimetype": "text/x-python",
   "name": "python",
   "nbconvert_exporter": "python",
   "pygments_lexer": "ipython3",
   "version": "3.12.3"
  }
 },
 "nbformat": 4,
 "nbformat_minor": 2
}
