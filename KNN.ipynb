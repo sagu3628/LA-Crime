{
 "cells": [
  {
   "cell_type": "markdown",
   "metadata": {},
   "source": [
    "# TeamA Machine Learning Project\n",
    "## Los Angeles Crime Data 2020-Present\n",
    "### Saulo Guzman and Alex Philipsen"
   ]
  },
  {
   "cell_type": "markdown",
   "metadata": {},
   "source": [
    "---\n",
    "\n",
    "Importing Libraries and Data"
   ]
  },
  {
   "cell_type": "code",
   "execution_count": 21,
   "metadata": {},
   "outputs": [],
   "source": [
    "import pandas as pd\n",
    "from sklearn.neighbors import KNeighborsClassifier\n",
    "import sklearn.metrics\n",
    "import numpy as np\n",
    "import matplotlib.pyplot as plt"
   ]
  },
  {
   "cell_type": "code",
   "execution_count": 2,
   "metadata": {},
   "outputs": [],
   "source": [
    "uneditedDF = pd.read_csv(\"Crime_Data_from_2020_to_Present.csv\", nrows=100000)"
   ]
  },
  {
   "cell_type": "markdown",
   "metadata": {},
   "source": [
    "---\n",
    "## Cleaning Data\n",
    "We are making use of the features of latitude, longitude, area name, time of day, and crime code."
   ]
  },
  {
   "cell_type": "code",
   "execution_count": 3,
   "metadata": {},
   "outputs": [
    {
     "name": "stdout",
     "output_type": "stream",
     "text": [
      "   AREA  Crm Cd  TIME OCC      LAT       LON\n",
      "0     7     510      2130  34.0375 -118.3506\n"
     ]
    }
   ],
   "source": [
    "crimeDF = uneditedDF[['AREA', 'Crm Cd', 'TIME OCC', 'LAT', 'LON']]\n",
    "print(crimeDF.head(1))\n",
    "\n",
    "# Splitting data between train, test, and valid sets\n",
    "trainSet = crimeDF.sample(frac=0.4)\n",
    "crimeDF = crimeDF.drop(trainSet.index)\n",
    "testSet = crimeDF.sample(frac=0.3)\n",
    "crimeDF = crimeDF.drop(testSet.index)\n",
    "validSet = crimeDF.sample(frac=0.3)\n",
    "crimeDF = crimeDF.drop(validSet.index)\n",
    "\n",
    "# Splitting each set into X and y\n",
    "\n",
    "X_train = trainSet[['AREA', 'TIME OCC', 'LAT', 'LON']]\n",
    "y_train = trainSet['Crm Cd']\n",
    "X_test = testSet[['AREA', 'TIME OCC', 'LAT', 'LON']]\n",
    "y_test = testSet['Crm Cd']\n",
    "X_valid = validSet[['AREA', 'TIME OCC', 'LAT', 'LON']]\n",
    "y_valid = validSet['Crm Cd']\n",
    "\n",
    "Xs = [X_train, X_test, X_valid]\n",
    "\n",
    "for X in Xs:\n",
    "    X.loc[X['LAT'] == 0, 'LAT'] = X['LAT'].mean()\n",
    "    X.loc[X['LON'] == 0, 'LON'] = X['LON'].mean()"
   ]
  },
  {
   "cell_type": "markdown",
   "metadata": {},
   "source": [
    "---\n",
    "## Implementing KNN Classifier"
   ]
  },
  {
   "cell_type": "code",
   "execution_count": 4,
   "metadata": {},
   "outputs": [],
   "source": [
    "areaCodeToName = (uneditedDF[['AREA', 'AREA NAME']]\n",
    "                    .drop_duplicates()\n",
    "                    .sort_values(by='AREA')\n",
    "                    )"
   ]
  },
  {
   "cell_type": "code",
   "execution_count": 5,
   "metadata": {},
   "outputs": [
    {
     "name": "stdout",
     "output_type": "stream",
     "text": [
      "The accuracy for KNN for 1 on the test set is: 0.08661111111111111\n",
      "The accuracy for KNN for 2 on the test set is: 0.0855\n",
      "The accuracy for KNN for 3 on the test set is: 0.08583333333333333\n",
      "The accuracy for KNN for 4 on the test set is: 0.08688888888888889\n",
      "The accuracy for KNN for 5 on the test set is: 0.08733333333333333\n",
      "The accuracy for KNN for 6 on the test set is: 0.09044444444444444\n",
      "The accuracy for KNN for 7 on the test set is: 0.09616666666666666\n",
      "The accuracy for KNN for 8 on the test set is: 0.10038888888888889\n",
      "The accuracy for KNN for 9 on the test set is: 0.10255555555555555\n",
      "The accuracy for KNN for 10 on the test set is: 0.10488888888888889\n",
      "The accuracy for KNN for 11 on the test set is: 0.10555555555555556\n",
      "The accuracy for KNN for 12 on the test set is: 0.10466666666666667\n",
      "The accuracy for KNN for 13 on the test set is: 0.10705555555555556\n",
      "The accuracy for KNN for 14 on the test set is: 0.10911111111111112\n",
      "The accuracy for KNN for 15 on the test set is: 0.10916666666666666\n",
      "The accuracy for KNN for 16 on the test set is: 0.10883333333333334\n",
      "The accuracy for KNN for 17 on the test set is: 0.11127777777777778\n",
      "The accuracy for KNN for 18 on the test set is: 0.11238888888888889\n",
      "The accuracy for KNN for 19 on the test set is: 0.11244444444444444\n",
      "The accuracy for KNN for 20 on the test set is: 0.11377777777777778\n",
      "The accuracy for KNN for 21 on the test set is: 0.11411111111111111\n"
     ]
    }
   ],
   "source": [
    "for num_neighbors in range(21):\n",
    "    knnClassifier = KNeighborsClassifier(n_neighbors=(num_neighbors+1))\n",
    "    knnClassifier.fit(X_train, y_train)\n",
    "    y_pred = knnClassifier.predict(X_test)\n",
    "    print(f\"The accuracy for KNN for {num_neighbors+1} on the test set is: {sklearn.metrics.accuracy_score(y_pred=y_pred, y_true=y_test)}\")"
   ]
  },
  {
   "cell_type": "markdown",
   "metadata": {},
   "source": [
    "The best accuracy achieved for an unwieghted KNN classifier was around 0.11 at num_neighbors = 20. So, next we will try weighting the classifier."
   ]
  },
  {
   "cell_type": "code",
   "execution_count": 6,
   "metadata": {},
   "outputs": [
    {
     "name": "stdout",
     "output_type": "stream",
     "text": [
      "Accuracy for weighted KNN by distance with 20 neighbors: 0.11411111111111111\n"
     ]
    }
   ],
   "source": [
    "weightedKnn = KNeighborsClassifier(n_neighbors=20, weights='distance')\n",
    "weightedKnn.fit(X_train, y_train)\n",
    "weighted_y_pred = weightedKnn.predict(X_test)\n",
    "print(f\"Accuracy for weighted KNN by distance with 20 neighbors: {sklearn.metrics.accuracy_score(y_pred=y_pred, y_true=y_test)}\")"
   ]
  },
  {
   "cell_type": "markdown",
   "metadata": {},
   "source": [
    "Even with weights, KNN has the same accuracy and is not performing very well. However, this data is not normalized, so we will be testing KNN with normalized data."
   ]
  },
  {
   "cell_type": "code",
   "execution_count": 7,
   "metadata": {},
   "outputs": [],
   "source": [
    "from sklearn.preprocessing import MinMaxScaler"
   ]
  },
  {
   "cell_type": "code",
   "execution_count": 8,
   "metadata": {},
   "outputs": [],
   "source": [
    "class NormalizedKNN:\n",
    "    def __init__(self, X_train, y_train, model):\n",
    "        self.X = X_train\n",
    "        self.y = y_train\n",
    "        self.model = model\n",
    "        self.scaler = MinMaxScaler()\n",
    "\n",
    "    def normalizeAndPredict(self, X):\n",
    "\n",
    "        X_norm = pd.DataFrame(self.scaler.transform(X), columns=X.columns)\n",
    "\n",
    "        y_pred = self.model.predict(X_norm)\n",
    "\n",
    "        return y_pred\n",
    "\n",
    "    def normalizeAndFit(self):\n",
    "        X_norm = pd.DataFrame(self.scaler.fit_transform(self.X), columns=self.X.columns)\n",
    "\n",
    "        self.model.fit(X_norm, self.y)\n",
    "\n",
    "    def getAccuracy(self, X_test, y_test):\n",
    "        y_pred = self.normalizeAndPredict(X_test)\n",
    "\n",
    "        accuracy = sklearn.metrics.accuracy_score(y_test, y_pred)\n",
    "        \n",
    "        return accuracy\n"
   ]
  },
  {
   "cell_type": "code",
   "execution_count": 9,
   "metadata": {},
   "outputs": [
    {
     "name": "stdout",
     "output_type": "stream",
     "text": [
      "Accuracy for a normalized KNN model with 21 neighbors: 0.10811111111111112\n"
     ]
    }
   ],
   "source": [
    "num_neighbors = 21\n",
    "model = KNeighborsClassifier(n_neighbors=21)\n",
    "normalizedKNN = NormalizedKNN(X_train=X_train, y_train=y_train, model=model)\n",
    "\n",
    "normalizedKNN.normalizeAndFit()\n",
    "accuracy = normalizedKNN.getAccuracy(X_test=X_test, y_test=y_test)\n",
    "print(f\"Accuracy for a normalized KNN model with 21 neighbors: {accuracy}\")"
   ]
  },
  {
   "cell_type": "markdown",
   "metadata": {},
   "source": [
    "The accuracy of KNN when normalized tends to be around the same as un-normalized."
   ]
  },
  {
   "cell_type": "markdown",
   "metadata": {},
   "source": [
    "---\n",
    "# Predicting the possibility of crime with KNN\n",
    "\n",
    "For this, we will be using the faker library to generate data where there is no crime at all so that we can distinguish the presence of a crime."
   ]
  },
  {
   "cell_type": "code",
   "execution_count": null,
   "metadata": {},
   "outputs": [],
   "source": [
    "import random"
   ]
  },
  {
   "cell_type": "code",
   "execution_count": 11,
   "metadata": {},
   "outputs": [],
   "source": [
    "X_train = trainSet[['AREA', 'TIME OCC', 'LAT', 'LON', 'Crm Cd']]\n",
    "X_test = testSet[['AREA', 'TIME OCC', 'LAT', 'LON', 'Crm Cd']]\n",
    "X_valid = validSet[['AREA', 'TIME OCC', 'LAT', 'LON', 'Crm Cd']]"
   ]
  },
  {
   "cell_type": "code",
   "execution_count": 12,
   "metadata": {},
   "outputs": [],
   "source": [
    "Xs = [X_train, X_test, X_valid]\n",
    "\n",
    "for X in Xs:\n",
    "    X.loc[X['LAT'] == 0, 'LAT'] = X['LAT'].mean()\n",
    "    X.loc[X['LON'] == 0, 'LON'] = X['LON'].mean()"
   ]
  },
  {
   "cell_type": "code",
   "execution_count": 13,
   "metadata": {},
   "outputs": [],
   "source": [
    "def convert_crime_to_bool(X):\n",
    "    new_y = pd.DataFrame()\n",
    "    new_X = X\n",
    "    new_X[\"Has Crime\"] = new_X['Crm Cd'].apply(lambda x: 0 if x == -1 else 1)\n",
    "\n",
    "    new_y = new_X['Has Crime']\n",
    "    new_X = X.drop(columns=['Crm Cd', 'Has Crime'])\n",
    "    return new_y, new_X\n",
    "\n",
    "def generate_fake_crime_data(data, num_rows):\n",
    "    fake_data = pd.DataFrame()\n",
    "    for column in data.columns:\n",
    "        if column == 'Crm Cd':\n",
    "            break\n",
    "        max_val = data[column].max()\n",
    "        min_val = data[column].min()\n",
    "        if(isinstance(max_val, int)):\n",
    "            fake_data[column] = np.random.choice(range(min_val, max_val), size=num_rows, replace=True)\n",
    "        else:\n",
    "            fake_data[column] = [random.uniform(min_val, max_val) for _ in range(num_rows)]\n",
    "    \n",
    "    fake_data['Crm Cd'] = [-1 for _ in range(num_rows)]\n",
    "    new_x = fake_data\n",
    "\n",
    "    new_x = pd.concat([new_x, data])\n",
    "    return new_x"
   ]
  },
  {
   "cell_type": "code",
   "execution_count": 14,
   "metadata": {},
   "outputs": [],
   "source": [
    "new_X_train = generate_fake_crime_data(X_train, X_train.shape[0])\n",
    "new_y_train, new_X_train = convert_crime_to_bool(new_X_train)\n",
    "\n",
    "new_X_test = generate_fake_crime_data(X_test, X_test.shape[0])\n",
    "new_y_test, new_X_test = convert_crime_to_bool(new_X_test)\n",
    "\n",
    "new_X_valid = generate_fake_crime_data(X_valid, X_valid.shape[0])\n",
    "new_y_valid, new_X_valid = convert_crime_to_bool(new_X_valid)"
   ]
  },
  {
   "cell_type": "code",
   "execution_count": 15,
   "metadata": {},
   "outputs": [
    {
     "name": "stdout",
     "output_type": "stream",
     "text": [
      "The accuracy for KNN for 1 on the test set is: 0.8870555555555556\n",
      "The accuracy for KNN for 2 on the test set is: 0.8939722222222222\n",
      "The accuracy for KNN for 3 on the test set is: 0.8697777777777778\n",
      "The accuracy for KNN for 4 on the test set is: 0.8756944444444444\n",
      "The accuracy for KNN for 5 on the test set is: 0.8595833333333334\n",
      "The accuracy for KNN for 6 on the test set is: 0.8619166666666667\n",
      "The accuracy for KNN for 7 on the test set is: 0.8512222222222222\n",
      "The accuracy for KNN for 8 on the test set is: 0.8533611111111111\n",
      "The accuracy for KNN for 9 on the test set is: 0.8428055555555556\n",
      "The accuracy for KNN for 10 on the test set is: 0.8436388888888889\n",
      "The accuracy for KNN for 11 on the test set is: 0.8348055555555556\n",
      "The accuracy for KNN for 12 on the test set is: 0.8380277777777778\n",
      "The accuracy for KNN for 13 on the test set is: 0.8284444444444444\n",
      "The accuracy for KNN for 14 on the test set is: 0.8302777777777778\n",
      "The accuracy for KNN for 15 on the test set is: 0.82375\n",
      "The accuracy for KNN for 16 on the test set is: 0.8242777777777778\n",
      "The accuracy for KNN for 17 on the test set is: 0.8191944444444444\n",
      "The accuracy for KNN for 18 on the test set is: 0.8193888888888889\n",
      "The accuracy for KNN for 19 on the test set is: 0.8147777777777778\n",
      "The accuracy for KNN for 20 on the test set is: 0.8145833333333333\n",
      "The accuracy for KNN for 21 on the test set is: 0.8108333333333333\n"
     ]
    }
   ],
   "source": [
    "for num_neighbors in range(21):\n",
    "    knnClassifier = KNeighborsClassifier(n_neighbors=(num_neighbors+1))\n",
    "    knnClassifier.fit(new_X_train, new_y_train)\n",
    "    y_pred = knnClassifier.predict(new_X_test)\n",
    "    print(f\"The accuracy for KNN for {num_neighbors+1} on the test set is: {sklearn.metrics.accuracy_score(y_pred=y_pred, y_true=new_y_test)}\")"
   ]
  },
  {
   "cell_type": "markdown",
   "metadata": {},
   "source": [
    "The highest accuracy in determining the presence of a crime is 0.89 with 2 neighbors."
   ]
  },
  {
   "cell_type": "code",
   "execution_count": 19,
   "metadata": {},
   "outputs": [],
   "source": [
    "# This Function is taken from HW1 helpers\n",
    "def display_confusion(c_matrix):\n",
    "    \"\"\"\n",
    "    Displays the confusion matrix using matrix show\n",
    "    Args:\n",
    "        c_matrix: square confusion matrix, shape (num_classes, num_classes)\n",
    "    \"\"\"\n",
    "    _, ax = plt.subplots()\n",
    "    ax.matshow(c_matrix, cmap=plt.cm.Blues)\n",
    "    for i in range(c_matrix.shape[0]):\n",
    "        for j in range(c_matrix.shape[0]):\n",
    "            ax.text(i, j, str(c_matrix[j, i]), va='center', ha='center')\n",
    "    plt.show()"
   ]
  },
  {
   "cell_type": "code",
   "execution_count": 22,
   "metadata": {},
   "outputs": [
    {
     "data": {
      "image/png": "[encoded data removed]",
      "text/plain": [
       "<Figure size 640x480 with 1 Axes>"
      ]
     },
     "metadata": {},
     "output_type": "display_data"
    }
   ],
   "source": [
    "from sklearn.metrics import confusion_matrix\n",
    "\n",
    "knnClassifier = KNeighborsClassifier(2)\n",
    "knnClassifier.fit(new_X_train, new_y_train)\n",
    "y_pred = knnClassifier.predict(new_X_test)\n",
    "cm = confusion_matrix(y_pred=y_pred, y_true=new_y_test)\n",
    "display_confusion(cm)"
   ]
  }
 ],
 "metadata": {
  "kernelspec": {
   "display_name": "base",
   "language": "python",
   "name": "python3"
  },
  "language_info": {
   "codemirror_mode": {
    "name": "ipython",
    "version": 3
   },
   "file_extension": ".py",
   "mimetype": "text/x-python",
   "name": "python",
   "nbconvert_exporter": "python",
   "pygments_lexer": "ipython3",
   "version": "3.12.3"
  }
 },
 "nbformat": 4,
 "nbformat_minor": 2
}
