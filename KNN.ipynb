{
 "cells": [
  {
   "cell_type": "markdown",
   "metadata": {},
   "source": [
    "# TeamA Machine Learning Project\n",
    "## Los Angeles Crime Data 2020-Present\n",
    "### Saulo Guzman and Alex Philipsen"
   ]
  },
  {
   "cell_type": "markdown",
   "metadata": {},
   "source": [
    "---\n",
    "\n",
    "Importing Libraries and Data"
   ]
  },
  {
   "cell_type": "code",
   "execution_count": 1,
   "metadata": {},
   "outputs": [],
   "source": [
    "import pandas as pd\n",
    "from sklearn.neighbors import KNeighborsClassifier\n",
    "import sklearn.metrics"
   ]
  },
  {
   "cell_type": "code",
   "execution_count": 2,
   "metadata": {},
   "outputs": [],
   "source": [
    "uneditedDF = pd.read_csv(\"Crime_Data_from_2020_to_Present.csv\", nrows=100000)"
   ]
  },
  {
   "cell_type": "markdown",
   "metadata": {},
   "source": [
    "---\n",
    "## Cleaning Data\n",
    "We are making use of the features of latitude, longitude, area name, time of day, and crime code."
   ]
  },
  {
   "cell_type": "code",
   "execution_count": 3,
   "metadata": {},
   "outputs": [
    {
     "name": "stdout",
     "output_type": "stream",
     "text": [
      "   AREA  Crm Cd  TIME OCC      LAT       LON\n",
      "0     7     510      2130  34.0375 -118.3506\n"
     ]
    }
   ],
   "source": [
    "crimeDF = uneditedDF[['AREA', 'Crm Cd', 'TIME OCC', 'LAT', 'LON']]\n",
    "print(crimeDF.head(1))"
   ]
  },
  {
   "cell_type": "markdown",
   "metadata": {},
   "source": [
    "---\n",
    "## Implementing KNN Classifier"
   ]
  },
  {
   "cell_type": "code",
   "execution_count": 4,
   "metadata": {},
   "outputs": [],
   "source": [
    "# Splitting data between train, test, and valid sets\n",
    "trainSet = crimeDF.sample(frac=0.4)\n",
    "crimeDF = crimeDF.drop(trainSet.index)\n",
    "testSet = crimeDF.sample(frac=0.3)\n",
    "crimeDF = crimeDF.drop(testSet.index)\n",
    "validSet = crimeDF.sample(frac=0.3)\n",
    "crimeDF = crimeDF.drop(validSet.index)\n",
    "\n",
    "# Splitting each set into X and y\n",
    "\n",
    "X_train = trainSet[['AREA', 'TIME OCC', 'LAT', 'LON']]\n",
    "y_train = trainSet['Crm Cd']\n",
    "X_test = testSet[['AREA', 'TIME OCC', 'LAT', 'LON']]\n",
    "y_test = testSet['Crm Cd']\n",
    "X_valid = validSet[['AREA', 'TIME OCC', 'LAT', 'LON']]\n",
    "y_valid = validSet['Crm Cd']\n",
    "\n",
    "areaCodeToName = (uneditedDF[['AREA', 'AREA NAME']]\n",
    "                    .drop_duplicates()\n",
    "                    .sort_values(by='AREA')\n",
    "                    )"
   ]
  },
  {
   "cell_type": "code",
   "execution_count": 14,
   "metadata": {},
   "outputs": [
    {
     "name": "stdout",
     "output_type": "stream",
     "text": [
      "The accuracy for KNN for 1 on the test set is: 0.08655555555555555\n",
      "The accuracy for KNN for 2 on the test set is: 0.084\n",
      "The accuracy for KNN for 3 on the test set is: 0.08327777777777778\n",
      "The accuracy for KNN for 4 on the test set is: 0.08444444444444445\n",
      "The accuracy for KNN for 5 on the test set is: 0.08905555555555555\n",
      "The accuracy for KNN for 6 on the test set is: 0.092\n",
      "The accuracy for KNN for 7 on the test set is: 0.09583333333333334\n",
      "The accuracy for KNN for 8 on the test set is: 0.09916666666666667\n",
      "The accuracy for KNN for 9 on the test set is: 0.10038888888888889\n",
      "The accuracy for KNN for 10 on the test set is: 0.10166666666666667\n",
      "The accuracy for KNN for 11 on the test set is: 0.10272222222222223\n",
      "The accuracy for KNN for 12 on the test set is: 0.10288888888888889\n",
      "The accuracy for KNN for 13 on the test set is: 0.10483333333333333\n",
      "The accuracy for KNN for 14 on the test set is: 0.10544444444444444\n",
      "The accuracy for KNN for 15 on the test set is: 0.10716666666666666\n",
      "The accuracy for KNN for 16 on the test set is: 0.10761111111111112\n",
      "The accuracy for KNN for 17 on the test set is: 0.10766666666666666\n",
      "The accuracy for KNN for 18 on the test set is: 0.11044444444444444\n",
      "The accuracy for KNN for 19 on the test set is: 0.11055555555555556\n",
      "The accuracy for KNN for 20 on the test set is: 0.11133333333333334\n",
      "The accuracy for KNN for 21 on the test set is: 0.11266666666666666\n"
     ]
    }
   ],
   "source": [
    "for num_neighbors in range(21):\n",
    "    knnClassifier = KNeighborsClassifier(n_neighbors=(num_neighbors+1))\n",
    "    knnClassifier.fit(X_train, y_train)\n",
    "    y_pred = knnClassifier.predict(X_test)\n",
    "    print(f\"The accuracy for KNN for {num_neighbors+1} on the test set is: {sklearn.metrics.accuracy_score(y_pred=y_pred, y_true=y_test)}\")"
   ]
  },
  {
   "cell_type": "markdown",
   "metadata": {},
   "source": [
    "The best accuracy achieved for an unwieghted KNN classifier was around 0.11 at num_neighbors = 20. So, next we will try weighting the classifier."
   ]
  },
  {
   "cell_type": "code",
   "execution_count": 15,
   "metadata": {},
   "outputs": [
    {
     "name": "stdout",
     "output_type": "stream",
     "text": [
      "Accuracy for weighted KNN by distance with 20 neighbors: 0.11266666666666666\n"
     ]
    }
   ],
   "source": [
    "weightedKnn = KNeighborsClassifier(n_neighbors=20, weights='distance')\n",
    "weightedKnn.fit(X_train, y_train)\n",
    "weighted_y_pred = weightedKnn.predict(X_test)\n",
    "print(f\"Accuracy for weighted KNN by distance with 20 neighbors: {sklearn.metrics.accuracy_score(y_pred=y_pred, y_true=y_test)}\")"
   ]
  },
  {
   "cell_type": "markdown",
   "metadata": {},
   "source": [
    "Even with weights, KNN has the same accuracy and is not performing very well. However, this data is not normalized, so we will be testing KNN with normalized data."
   ]
  },
  {
   "cell_type": "code",
   "execution_count": 16,
   "metadata": {},
   "outputs": [],
   "source": [
    "from sklearn.preprocessing import MinMaxScaler"
   ]
  },
  {
   "cell_type": "code",
   "execution_count": 18,
   "metadata": {},
   "outputs": [],
   "source": [
    "class NormalizedKNN:\n",
    "    def __init__(self, X_train, y_train, model):\n",
    "        self.X = X_train\n",
    "        self.y = y_train\n",
    "        self.model = model\n",
    "        self.scaler = MinMaxScaler()\n",
    "\n",
    "    def normalizeAndPredict(self, X):\n",
    "\n",
    "        X_norm = pd.DataFrame(self.scaler.transform(X), columns=X.columns)\n",
    "\n",
    "        y_pred = self.model.predict(X_norm)\n",
    "\n",
    "        return y_pred\n",
    "\n",
    "    def normalizeAndFit(self):\n",
    "        X_norm = pd.DataFrame(self.scaler.fit_transform(self.X), columns=self.X.columns)\n",
    "\n",
    "        self.model.fit(X_norm, self.y)\n",
    "\n",
    "    def getAccuracy(self, X_test, y_test):\n",
    "        y_pred = self.normalizeAndPredict(X_test)\n",
    "\n",
    "        accuracy = sklearn.metrics.accuracy_score(y_test, y_pred)\n",
    "        \n",
    "        return accuracy\n"
   ]
  },
  {
   "cell_type": "code",
   "execution_count": 19,
   "metadata": {},
   "outputs": [
    {
     "name": "stdout",
     "output_type": "stream",
     "text": [
      "Accuracy for a normalized KNN model with 21 neighbors: 0.11427777777777778\n"
     ]
    }
   ],
   "source": [
    "num_neighbors = 21\n",
    "model = KNeighborsClassifier(n_neighbors=21)\n",
    "normalizedKNN = NormalizedKNN(X_train=X_train, y_train=y_train, model=model)\n",
    "\n",
    "normalizedKNN.normalizeAndFit()\n",
    "accuracy = normalizedKNN.getAccuracy(X_test=X_test, y_test=y_test)\n",
    "print(f\"Accuracy for a normalized KNN model with 21 neighbors: {accuracy}\")"
   ]
  },
  {
   "cell_type": "markdown",
   "metadata": {},
   "source": [
    "The accuracy of KNN when normalized is slightly better, but still not very useful."
   ]
  },
  {
   "cell_type": "markdown",
   "metadata": {},
   "source": [
    "---\n",
    "# Predicting the possibility of crime with KNN\n",
    "\n",
    "For this, we will be using the faker library to generate data where there is no crime at all so that we can distinguish the presence of a crime."
   ]
  },
  {
   "cell_type": "code",
   "execution_count": 37,
   "metadata": {},
   "outputs": [],
   "source": [
    "from faker import Faker"
   ]
  }
 ],
 "metadata": {
  "kernelspec": {
   "display_name": "base",
   "language": "python",
   "name": "python3"
  },
  "language_info": {
   "codemirror_mode": {
    "name": "ipython",
    "version": 3
   },
   "file_extension": ".py",
   "mimetype": "text/x-python",
   "name": "python",
   "nbconvert_exporter": "python",
   "pygments_lexer": "ipython3",
   "version": "3.12.3"
  }
 },
 "nbformat": 4,
 "nbformat_minor": 2
}
