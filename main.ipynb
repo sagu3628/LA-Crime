{
 "cells": [
  {
   "cell_type": "markdown",
   "metadata": {},
   "source": [
    "# TeamA Machine Learning Project\n",
    "## Los Angeles Crime Data 2020-Present\n",
    "### Saulo Guzman and Alex Philipsen"
   ]
  },
  {
   "cell_type": "markdown",
   "metadata": {},
   "source": [
    "---\n",
    "\n",
    "Importing Libraries and Data"
   ]
  },
  {
   "cell_type": "code",
   "execution_count": 1,
   "metadata": {},
   "outputs": [],
   "source": [
    "import pandas as pd\n",
    "import sklearn"
   ]
  },
  {
   "cell_type": "code",
   "execution_count": 3,
   "metadata": {},
   "outputs": [],
   "source": [
    "uneditedDF = pd.read_csv(\"Crime_Data_from_2020_to_Present.csv\", nrows=100000)"
   ]
  },
  {
   "cell_type": "markdown",
   "metadata": {},
   "source": [
    "---\n",
    "## Cleaning Data\n",
    "We are making use of the features of latitude, longitude, area name, time of day, and crime code."
   ]
  },
  {
   "cell_type": "code",
   "execution_count": 6,
   "metadata": {},
   "outputs": [
    {
     "name": "stdout",
     "output_type": "stream",
     "text": [
      "  AREA NAME  Crm Cd  TIME OCC      LAT       LON\n",
      "0  Wilshire     510      2130  34.0375 -118.3506\n"
     ]
    }
   ],
   "source": [
    "crimeDF = uneditedDF[['AREA NAME', 'Crm Cd', 'TIME OCC', 'LAT', 'LON']]\n",
    "print(crimeDF.head(1))"
   ]
  }
 ],
 "metadata": {
  "kernelspec": {
   "display_name": "base",
   "language": "python",
   "name": "python3"
  },
  "language_info": {
   "codemirror_mode": {
    "name": "ipython",
    "version": 3
   },
   "file_extension": ".py",
   "mimetype": "text/x-python",
   "name": "python",
   "nbconvert_exporter": "python",
   "pygments_lexer": "ipython3",
   "version": "3.12.4"
  }
 },
 "nbformat": 4,
 "nbformat_minor": 2
}
