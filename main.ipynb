{
 "cells": [
  {
   "cell_type": "markdown",
   "metadata": {},
   "source": [
    "# TeamA Machine Learning Project\n",
    "## Los Angeles Crime Data 2020-Present\n",
    "### Saulo Guzman and Alex Philipsen"
   ]
  },
  {
   "cell_type": "markdown",
   "metadata": {},
   "source": [
    "---\n",
    "\n",
    "Importing Libraries and Data"
   ]
  },
  {
   "cell_type": "code",
   "execution_count": 1,
   "metadata": {},
   "outputs": [],
   "source": [
    "import pandas as pd\n",
    "import sklearn"
   ]
  },
  {
   "cell_type": "code",
   "execution_count": 2,
   "metadata": {},
   "outputs": [
    {
     "name": "stdout",
     "output_type": "stream",
     "text": [
      "       DR_NO               Date Rptd                DATE OCC  TIME OCC  AREA  \\\n",
      "0  190326475  03/01/2020 12:00:00 AM  03/01/2020 12:00:00 AM      2130     7   \n",
      "\n",
      "  AREA NAME  Rpt Dist No  Part 1-2  Crm Cd       Crm Cd Desc  ... Status  \\\n",
      "0  Wilshire          784         1     510  VEHICLE - STOLEN  ...     AA   \n",
      "\n",
      "    Status Desc Crm Cd 1 Crm Cd 2  Crm Cd 3 Crm Cd 4  \\\n",
      "0  Adult Arrest    510.0    998.0       NaN      NaN   \n",
      "\n",
      "                                  LOCATION Cross Street      LAT       LON  \n",
      "0  1900 S  LONGWOOD                     AV          NaN  34.0375 -118.3506  \n",
      "\n",
      "[1 rows x 28 columns]\n"
     ]
    }
   ],
   "source": [
    "uneditedDF = pd.read_csv(\"Crime_Data_from_2020_to_Present.csv\", nrows=100000)\n",
    "print(uneditedDF.head(1))"
   ]
  }
 ],
 "metadata": {
  "kernelspec": {
   "display_name": "base",
   "language": "python",
   "name": "python3"
  },
  "language_info": {
   "codemirror_mode": {
    "name": "ipython",
    "version": 3
   },
   "file_extension": ".py",
   "mimetype": "text/x-python",
   "name": "python",
   "nbconvert_exporter": "python",
   "pygments_lexer": "ipython3",
   "version": "3.12.4"
  }
 },
 "nbformat": 4,
 "nbformat_minor": 2
}
